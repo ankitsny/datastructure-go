{
 "cells": [
  {
   "cell_type": "code",
   "execution_count": 111,
   "metadata": {},
   "outputs": [],
   "source": [
    "// Stack\n",
    "import (\n",
    "    \"fmt\"\n",
    "    \"strings\"\n",
    ")\n",
    "\n",
    "type Stack struct{\n",
    "    elems []interface{}\n",
    "}\n",
    "\n",
    "func (s *Stack) IsEmpty() bool {\n",
    "    return (len(s.elems) == 0)\n",
    "}\n",
    "\n",
    "func (s *Stack) Push(elem interface{}) {\n",
    "    s.elems = append(s.elems, elem)\n",
    "//     fmt.Println(\"Inserted\")\n",
    "}\n",
    "\n",
    "func (s *Stack) Pop() interface{}{\n",
    "    if len(s.elems) == 0{\n",
    "//         fmt.Println(\"Stack is empty\")\n",
    "        return nil\n",
    "    }\n",
    "    tmp := s.elems[len(s.elems)-1]\n",
    "    s.elems = s.elems[:(len(s.elems)-1)]\n",
    "    return tmp\n",
    "}\n",
    "\n",
    "func (s *Stack) Peek() interface{}{\n",
    "    if len(s.elems) == 0 {\n",
    "//         fmt.Println(\"Stack is empty\")\n",
    "        return nil\n",
    "    }\n",
    "    return s.elems[len(s.elems) - 1]\n",
    "}\n",
    "\n"
   ]
  },
  {
   "cell_type": "code",
   "execution_count": 230,
   "metadata": {},
   "outputs": [],
   "source": [
    "const start = \"[{(\"\n",
    "const end = \")]}\""
   ]
  },
  {
   "cell_type": "code",
   "execution_count": 229,
   "metadata": {},
   "outputs": [],
   "source": [
    "func validatePair(p1, p2 string) bool{\n",
    "    switch(p2){\n",
    "        case \")\":\n",
    "            return p1 == \"(\"\n",
    "            \n",
    "        case \"}\":\n",
    "             return p1 == \"{\"{\n",
    "        case \"]\":\n",
    "            return p1 == \"[\"{\n",
    "        default:\n",
    "            return false\n",
    "    }\n",
    "}"
   ]
  },
  {
   "cell_type": "code",
   "execution_count": 250,
   "metadata": {},
   "outputs": [],
   "source": [
    "func isBalancedParenthesis(str string) bool{\n",
    "    s := &Stack{}\n",
    "    \n",
    "    // Length should be even\n",
    "    if len(str) & 1 == 1{\n",
    "//         fmt.Println(\"Length Should be even\")\n",
    "        return false\n",
    "    }\n",
    "    \n",
    "    // balanced pair can not start from closing parenths\n",
    "    if  !strings.Contains(start, string(str[0])){\n",
    "        return false\n",
    "    }\n",
    "    \n",
    "    // balanced pair can not end from starting parents\n",
    "    if !strings.Contains(end, string(str[len(str)-1])){\n",
    "        return false\n",
    "    }\n",
    "\n",
    "    for _, val := range str{\n",
    "        if strings.Contains(start, string(val)){\n",
    "            // encountered start \n",
    "            s.Push(string(val))\n",
    "        }else{\n",
    "            // Encountered end\n",
    "            \n",
    "            if s.IsEmpty(){\n",
    "                // encountered end but stack is empty\n",
    "                return false\n",
    "            }\n",
    "            last := s.Pop()\n",
    "            // Check for the valid pairs.() valid pair, {) invalid pair\n",
    "            if !validatePair(last.(string), string(val)){\n",
    "                return false\n",
    "            }\n",
    "        }\n",
    "    }\n",
    "    return s.IsEmpty()\n",
    "}"
   ]
  },
  {
   "cell_type": "code",
   "execution_count": 254,
   "metadata": {},
   "outputs": [
    {
     "data": {
      "text/plain": [
       "true"
      ]
     },
     "execution_count": 254,
     "metadata": {},
     "output_type": "execute_result"
    }
   ],
   "source": [
    "isBalancedParenthesis(\"[](()){()}\")"
   ]
  },
  {
   "cell_type": "code",
   "execution_count": 239,
   "metadata": {},
   "outputs": [
    {
     "data": {
      "text/plain": [
       "false"
      ]
     },
     "execution_count": 239,
     "metadata": {},
     "output_type": "execute_result"
    }
   ],
   "source": [
    "isBalancedParenthesis(\"[{())()}]\")"
   ]
  }
 ],
 "metadata": {
  "kernelspec": {
   "display_name": "Go",
   "language": "go",
   "name": "gophernotes"
  },
  "language_info": {
   "codemirror_mode": "",
   "file_extension": ".go",
   "mimetype": "",
   "name": "go",
   "nbconvert_exporter": "",
   "pygments_lexer": "",
   "version": "go1.9.2"
  }
 },
 "nbformat": 4,
 "nbformat_minor": 2
}
