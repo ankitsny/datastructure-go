{
 "cells": [
  {
   "cell_type": "markdown",
   "metadata": {},
   "source": [
    "# Implement Queu"
   ]
  },
  {
   "cell_type": "code",
   "execution_count": 1,
   "metadata": {},
   "outputs": [],
   "source": [
    "import(\n",
    "    \"fmt\"\n",
    ")"
   ]
  },
  {
   "cell_type": "code",
   "execution_count": 3,
   "metadata": {},
   "outputs": [],
   "source": [
    "// Stack\n",
    "type Stack struct{\n",
    "    elems []interface{}\n",
    "}\n",
    "\n",
    "func (s *Stack) IsEmpty() bool {\n",
    "    return (len(s.elems) == 0)\n",
    "}\n",
    "\n",
    "func (s *Stack) Push(elem interface{}) {\n",
    "    s.elems = append(s.elems, elem)\n",
    "    // fmt.Println(\"Inserted\")\n",
    "}\n",
    "\n",
    "func (s *Stack) Pop() interface{}{\n",
    "    if len(s.elems) == 0{\n",
    "        // fmt.Println(\"Stack is empty\")\n",
    "        return nil\n",
    "    }\n",
    "    tmp := s.elems[len(s.elems)-1]\n",
    "    s.elems = s.elems[:(len(s.elems)-1)]\n",
    "    return tmp\n",
    "}\n",
    "\n",
    "func (s *Stack) Peek() interface{}{\n",
    "    if len(s.elems) == 0 {\n",
    "        // fmt.Println(\"Stack is empty\")\n",
    "        return nil\n",
    "    }\n",
    "    return s.elems[len(s.elems) - 1]\n",
    "}\n",
    "\n",
    "func (s *Stack) Size()int{\n",
    "    return len(s.elems)\n",
    "}"
   ]
  },
  {
   "cell_type": "code",
   "execution_count": 8,
   "metadata": {},
   "outputs": [],
   "source": [
    "// Queue\n",
    "type Queue struct{\n",
    "    InStack *Stack\n",
    "    OutStack *Stack\n",
    "}\n",
    "\n",
    "func (q *Queue) Enqueue(val interface{}){\n",
    "    if q.InStack == nil{\n",
    "        q.InStack = &Stack{}\n",
    "    }\n",
    "    q.InStack.Push(val)\n",
    "}\n",
    "\n",
    "func (q *Queue) Dequeue() interface{}{\n",
    "    if q.OutStack == nil{\n",
    "        q.OutStack = &Stack{}\n",
    "    }\n",
    "    if q.OutStack.Size() == 0{\n",
    "        for q.InStack.Size() != 0{\n",
    "            q.OutStack.Push(q.InStack.Pop())\n",
    "        }\n",
    "    }\n",
    "    return q.OutStack.Pop()\n",
    "}"
   ]
  },
  {
   "cell_type": "code",
   "execution_count": 9,
   "metadata": {},
   "outputs": [],
   "source": [
    "q := &Queue{}"
   ]
  },
  {
   "cell_type": "code",
   "execution_count": 10,
   "metadata": {},
   "outputs": [],
   "source": [
    "q.Enqueue(1)"
   ]
  },
  {
   "cell_type": "code",
   "execution_count": 11,
   "metadata": {},
   "outputs": [],
   "source": [
    "q.Enqueue(2)"
   ]
  },
  {
   "cell_type": "code",
   "execution_count": 12,
   "metadata": {},
   "outputs": [
    {
     "data": {
      "text/plain": [
       "1"
      ]
     },
     "execution_count": 12,
     "metadata": {},
     "output_type": "execute_result"
    }
   ],
   "source": [
    "q.Dequeue()"
   ]
  },
  {
   "cell_type": "code",
   "execution_count": 13,
   "metadata": {},
   "outputs": [
    {
     "data": {
      "text/plain": [
       "2"
      ]
     },
     "execution_count": 13,
     "metadata": {},
     "output_type": "execute_result"
    }
   ],
   "source": [
    "q.Dequeue()\n"
   ]
  },
  {
   "cell_type": "code",
   "execution_count": 14,
   "metadata": {},
   "outputs": [],
   "source": [
    "q.Enqueue(22)\n"
   ]
  },
  {
   "cell_type": "code",
   "execution_count": 15,
   "metadata": {},
   "outputs": [],
   "source": [
    "q.Enqueue(33)"
   ]
  },
  {
   "cell_type": "code",
   "execution_count": 16,
   "metadata": {},
   "outputs": [
    {
     "data": {
      "text/plain": [
       "22"
      ]
     },
     "execution_count": 16,
     "metadata": {},
     "output_type": "execute_result"
    }
   ],
   "source": [
    "q.Dequeue()"
   ]
  },
  {
   "cell_type": "code",
   "execution_count": 17,
   "metadata": {},
   "outputs": [],
   "source": [
    "q.Enqueue(44)"
   ]
  },
  {
   "cell_type": "code",
   "execution_count": 18,
   "metadata": {},
   "outputs": [
    {
     "data": {
      "text/plain": [
       "33"
      ]
     },
     "execution_count": 18,
     "metadata": {},
     "output_type": "execute_result"
    }
   ],
   "source": [
    "q.Dequeue()"
   ]
  },
  {
   "cell_type": "code",
   "execution_count": null,
   "metadata": {},
   "outputs": [],
   "source": []
  }
 ],
 "metadata": {
  "kernelspec": {
   "display_name": "Go",
   "language": "go",
   "name": "gophernotes"
  },
  "language_info": {
   "codemirror_mode": "",
   "file_extension": ".go",
   "mimetype": "",
   "name": "go",
   "nbconvert_exporter": "",
   "pygments_lexer": "",
   "version": "go1.9.2"
  }
 },
 "nbformat": 4,
 "nbformat_minor": 2
}
