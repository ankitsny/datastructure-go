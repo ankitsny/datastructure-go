{
 "cells": [
  {
   "cell_type": "markdown",
   "metadata": {},
   "source": [
    "# Stack\n",
    "\n",
    "Stack is a linear data structure which follows a particular order in which the operations are performed. The order may be LIFO(Last In First Out) or FILO(First In Last Out).\n",
    "\n",
    "Mainly the following three basic operations are performed in the stack:\n",
    "\n",
    "_**Push**_: Adds an item in the stack. If the stack is full, then it is said to be an Overflow condition.\n",
    "\n",
    "_**Pop**_: Removes an item from the stack. The items are popped in the reversed order in which they are pushed. If the stack is empty, then it is said to be an Underflow condition.\n",
    "\n",
    "_**Peek**_ or _**Top**_: Returns top element of stack.\n",
    "\n",
    "_**isEmpty**_: Returns true if stack is empty, else false.\n",
    "\n",
    "----\n",
    "\n",
    "__Time Complexities of operations on stack:__\n",
    "\n",
    "push(), pop(), isEmpty() and peek() all take **O(1)** time. We do not run any loop in any of these operations.\n",
    "\n",
    "----\n",
    "\n",
    "**Applications of stack:**\n",
    "\n",
    "1. Balancing of symbols\n",
    "2. Infix to Postfix /Prefix conversion\n",
    "3. Redo-undo features at many places like editors, photoshop.\n",
    "4. Forward and backward feature in web browsers\n",
    "5. Used in many algorithms like Tower of Hanoi, tree traversals, stock span problem, histogram problem.\n",
    "6. Other applications can be Backtracking, Knight tour problem, rat in a maze, N queen problem and sudoku solver\n",
    "7. In Graph Algorithms like Topological Sorting and Strongly Connected Components\n",
    "\n",
    "---"
   ]
  },
  {
   "cell_type": "code",
   "execution_count": 7,
   "metadata": {},
   "outputs": [],
   "source": [
    "import (\n",
    "    \"fmt\"\n",
    ")"
   ]
  },
  {
   "cell_type": "code",
   "execution_count": 4,
   "metadata": {},
   "outputs": [],
   "source": [
    "type Stack struct{\n",
    "    elems []interface{}\n",
    "}"
   ]
  },
  {
   "cell_type": "code",
   "execution_count": 8,
   "metadata": {},
   "outputs": [],
   "source": [
    "func (s *Stack) IsEmpty() bool {\n",
    "    return (len(s.elems) == 0)\n",
    "}"
   ]
  },
  {
   "cell_type": "code",
   "execution_count": 10,
   "metadata": {},
   "outputs": [],
   "source": [
    "func (s *Stack) Push(elem interface{}) {\n",
    "    s.elems = append(s.elems, elem)\n",
    "    fmt.Println(\"Inserted\")\n",
    "}"
   ]
  },
  {
   "cell_type": "code",
   "execution_count": 12,
   "metadata": {},
   "outputs": [],
   "source": [
    "func (s *Stack) Pop() interface{}{\n",
    "    if len(s.elems) == 0{\n",
    "        fmt.Println(\"Stack is empty\")\n",
    "        return nil\n",
    "    }\n",
    "    tmp := s.elems[len(s.elems)-1]\n",
    "    s.elems = s.elems[:(len(s.elems)-1)]\n",
    "    return tmp\n",
    "}"
   ]
  },
  {
   "cell_type": "code",
   "execution_count": 14,
   "metadata": {},
   "outputs": [],
   "source": [
    "func (s *Stack) Peek() interface{}{\n",
    "    if len(s.elems) == 0 {\n",
    "        fmt.Println(\"Stack is empty\")\n",
    "        return nil\n",
    "    }\n",
    "    return s.elems[len(s.elems) - 1]\n",
    "}"
   ]
  },
  {
   "cell_type": "code",
   "execution_count": 15,
   "metadata": {},
   "outputs": [],
   "source": [
    "s := &Stack{}"
   ]
  },
  {
   "cell_type": "code",
   "execution_count": 16,
   "metadata": {},
   "outputs": [
    {
     "data": {
      "text/plain": [
       "true"
      ]
     },
     "execution_count": 16,
     "metadata": {},
     "output_type": "execute_result"
    }
   ],
   "source": [
    "s.IsEmpty()"
   ]
  },
  {
   "cell_type": "code",
   "execution_count": 17,
   "metadata": {},
   "outputs": [
    {
     "name": "stdout",
     "output_type": "stream",
     "text": [
      "Stack is empty\n"
     ]
    }
   ],
   "source": [
    "s.Pop()"
   ]
  },
  {
   "cell_type": "code",
   "execution_count": 18,
   "metadata": {},
   "outputs": [
    {
     "name": "stdout",
     "output_type": "stream",
     "text": [
      "Stack is empty\n"
     ]
    }
   ],
   "source": [
    "s.Peek()"
   ]
  },
  {
   "cell_type": "code",
   "execution_count": 20,
   "metadata": {},
   "outputs": [
    {
     "name": "stdout",
     "output_type": "stream",
     "text": [
      "Inserted\n"
     ]
    }
   ],
   "source": [
    "s.Push(2)"
   ]
  },
  {
   "cell_type": "code",
   "execution_count": 21,
   "metadata": {},
   "outputs": [
    {
     "data": {
      "text/plain": [
       "2"
      ]
     },
     "execution_count": 21,
     "metadata": {},
     "output_type": "execute_result"
    }
   ],
   "source": [
    "s.Peek()"
   ]
  },
  {
   "cell_type": "code",
   "execution_count": 24,
   "metadata": {},
   "outputs": [
    {
     "name": "stdout",
     "output_type": "stream",
     "text": [
      "Inserted\n"
     ]
    }
   ],
   "source": [
    "s.Push(23)"
   ]
  },
  {
   "cell_type": "code",
   "execution_count": 25,
   "metadata": {},
   "outputs": [
    {
     "data": {
      "text/plain": [
       "23"
      ]
     },
     "execution_count": 25,
     "metadata": {},
     "output_type": "execute_result"
    }
   ],
   "source": [
    "s.Peek()"
   ]
  },
  {
   "cell_type": "code",
   "execution_count": null,
   "metadata": {},
   "outputs": [],
   "source": []
  }
 ],
 "metadata": {
  "kernelspec": {
   "display_name": "Go",
   "language": "go",
   "name": "gophernotes"
  },
  "language_info": {
   "codemirror_mode": "",
   "file_extension": ".go",
   "mimetype": "",
   "name": "go",
   "nbconvert_exporter": "",
   "pygments_lexer": "",
   "version": "go1.9.2"
  }
 },
 "nbformat": 4,
 "nbformat_minor": 2
}
